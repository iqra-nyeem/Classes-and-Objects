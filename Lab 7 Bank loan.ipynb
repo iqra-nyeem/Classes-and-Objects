{
 "cells": [
  {
   "cell_type": "code",
   "execution_count": 3,
   "metadata": {},
   "outputs": [
    {
     "name": "stdout",
     "output_type": "stream",
     "text": [
      "Number of Applications accepted for today: 1\n",
      "Customer Name: Iqra\n",
      "Customer's Email Address: Iqra@gmail.com\n",
      "Customer's Date Of Birth: 12.3.2009\n",
      " Your Bank for Appluing Loan is HBL \n",
      "Your Bank Location: DHA \n",
      "Entry your Country name: Pakistan\n",
      "Enter Your NIC: 222222\n",
      "Loan TypeYearly\n",
      "Enter Your Loan Rang: 45000\n",
      "Your Application For Loan is Accepted.. \n",
      "Your loan duration is 3 Year for Yearly Payment under range 45000.0: \n",
      "The Car Company is Honda\n",
      "The Car's model is 2016\n"
     ]
    }
   ],
   "source": [
    "class Bank:\n",
    "    def __init__(self,Name,ID,Location):\n",
    "        self.Name = Name\n",
    "        self.ID = ID\n",
    "        self.Location = Location\n",
    "class Customer:\n",
    "    def __init__(self):\n",
    "        Number_of_Applications = int(input(\"Number of Applications accepted for today: \"))\n",
    "        Application = {}\n",
    "        for x in range(Number_of_Applications):\n",
    "            Application[x] = (str(input(\"Customer Name: \")),input(\"Customer's Email Address: \"),input(\"Customer's Date Of Birth: \"))\n",
    "\n",
    "class Loan_Inquiery:\n",
    "    def L_I(self):\n",
    "        Country = input('Entry your Country name: ')\n",
    "        NIC = input(\"Enter Your NIC: \")\n",
    "        Loan_Type = input(\"Loan Type\")\n",
    "        Payment_Rang = float(input(\"Enter Your Loan Rang: \"))\n",
    "        if Country == 'Pakistan':\n",
    "            print(\"Your Application For Loan is Accepted.. \")\n",
    "            if Loan_Type == \"Monyhly\":\n",
    "                    if Payment_Rang >50000:\n",
    "                        return \"Your loan duration is 1 Year for {} Payment under range {}: \".format(Loan_Type,Payment_Rang)\n",
    "                    elif Payment_Rang >100000:\n",
    "                        return \"Your loan duration is 2 Year for {} Payment under range {}: \".format(Loan_Type,Payment_Rang)\n",
    "                    else:\n",
    "                        return \"Your loan duration is 3 Year for {} Payment under range {}: \".format(Loan_Type,Payment_Rang)\n",
    "        \n",
    "            \n",
    "            if Loan_Type == \"Yearly\":\n",
    "                if Payment_Rang >50000:\n",
    "                    return \"Your loan duration is 1 Year for {} Payment under range {}: \".format(Loan_Type,Payment_Rang)\n",
    "                elif Payment_Rang >100000:\n",
    "                    return \"Your loan duration is 2 Year for {} Payment under range {}: \".format(Loan_Type,Payment_Rang)\n",
    "                else:\n",
    "                    return \"Your loan duration is 3 Year for {} Payment under range {}: \".format(Loan_Type,Payment_Rang)\n",
    "\n",
    "        else:\n",
    "            return \"Sorry Application has not Accepted for {}\".format(Country)\n",
    "\n",
    "class Car:\n",
    "    def LoanCar(self,Company,Model):\n",
    "        self.Company = Company\n",
    "        self.Model = Model\n",
    "        \n",
    "    \n",
    "    \n",
    "c = Bank(\"HBL\",12345,'DHA')\n",
    "a = Customer()\n",
    "b = Loan_Inquiery()\n",
    "print(\" Your Bank for Appluing Loan is {} \".format(c.Name))\n",
    "print(\"Your Bank Location: {} \".format(c.Location))\n",
    "print(b.L_I())\n",
    "car = Car()\n",
    "car.LoanCar('Honda',2016)\n",
    "print(\"The Car Company is {}\".format(car.Company))\n",
    "print(\"The Car's model is {}\".format(car.Model))"
   ]
  },
  {
   "cell_type": "code",
   "execution_count": null,
   "metadata": {},
   "outputs": [],
   "source": []
  }
 ],
 "metadata": {
  "kernelspec": {
   "display_name": "Python 3",
   "language": "python",
   "name": "python3"
  },
  "language_info": {
   "codemirror_mode": {
    "name": "ipython",
    "version": 3
   },
   "file_extension": ".py",
   "mimetype": "text/x-python",
   "name": "python",
   "nbconvert_exporter": "python",
   "pygments_lexer": "ipython3",
   "version": "3.6.7"
  }
 },
 "nbformat": 4,
 "nbformat_minor": 2
}
