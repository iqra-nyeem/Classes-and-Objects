{
 "cells": [
  {
   "cell_type": "code",
   "execution_count": 13,
   "metadata": {},
   "outputs": [
    {
     "name": "stdout",
     "output_type": "stream",
     "text": [
      "Computer Science and Software Engineering\n",
      "315\n",
      "Iqra\n",
      "Computer Science and Software Engineering\n",
      "316\n",
      "Hamza\n"
     ]
    }
   ],
   "source": [
    "class CSStudents:\n",
    "    Trade = \"Computer Science and Software Engineering\"\n",
    "    \n",
    "    def __init__(self,roll,name):\n",
    "        self.roll = roll\n",
    "        self.name = name\n",
    "    def    \n",
    "\n",
    "Faisal = CSStudents(315,'Iqra')\n",
    "Farhan = CSStudents(316, 'Hamza')\n",
    "print(Faisal.Trade)\n",
    "print(Faisal.roll)\n",
    "print(Faisal.name)\n",
    "print(Faisal.Trade)\n",
    "print(Farhan.roll)\n",
    "print(Farhan.name) \n"
   ]
  },
  {
   "cell_type": "code",
   "execution_count": null,
   "metadata": {},
   "outputs": [],
   "source": []
  }
 ],
 "metadata": {
  "kernelspec": {
   "display_name": "Python 3",
   "language": "python",
   "name": "python3"
  },
  "language_info": {
   "codemirror_mode": {
    "name": "ipython",
    "version": 3
   },
   "file_extension": ".py",
   "mimetype": "text/x-python",
   "name": "python",
   "nbconvert_exporter": "python",
   "pygments_lexer": "ipython3",
   "version": "3.6.7"
  }
 },
 "nbformat": 4,
 "nbformat_minor": 2
}
