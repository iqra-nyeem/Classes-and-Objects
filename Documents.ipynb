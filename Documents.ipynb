{
 "cells": [
  {
   "cell_type": "markdown",
   "metadata": {},
   "source": [
    "\n",
    "# Class OOP\n"
   ]
  },
  {
   "cell_type": "code",
   "execution_count": 2,
   "metadata": {},
   "outputs": [
    {
     "name": "stdout",
     "output_type": "stream",
     "text": [
      "220\n",
      "Black\n",
      "200\n",
      "Black\n",
      "250\n"
     ]
    }
   ],
   "source": [
    "class Car:\n",
    "    pass\n",
    "\n",
    "honda = Car()\n",
    "ford = Car()\n",
    "audi = Car()\n",
    "\n",
    "ford.speed = 220\n",
    "honda.speed = 200\n",
    "audi.speed = 250\n",
    "\n",
    "ford.color = \"Black\"\n",
    "honda.color = \"Black\"\n",
    "audi.color = \"Black\"\n",
    "\n",
    "print(ford.speed)\n",
    "print(ford.color )\n",
    "print(honda.speed)\n",
    "print(honda.color)\n",
    "print(audi.speed)"
   ]
  },
  {
   "cell_type": "code",
   "execution_count": 8,
   "metadata": {},
   "outputs": [
    {
     "name": "stdout",
     "output_type": "stream",
     "text": [
      "800\n"
     ]
    }
   ],
   "source": [
    "class Rectangle:\n",
    "    pass\n",
    "\n",
    "rect1 = Rectangle()\n",
    "rect2 = Rectangle()\n",
    "\n",
    "\n",
    "rect1.height = 20\n",
    "rect2.height = 30\n",
    "\n",
    "rect1.width = 40\n",
    "rect2.width = 10\n",
    "\n",
    "print(rect1.height * rect1.width)"
   ]
  },
  {
   "cell_type": "code",
   "execution_count": 6,
   "metadata": {},
   "outputs": [
    {
     "name": "stdout",
     "output_type": "stream",
     "text": [
      "the __init__ is called\n",
      "the __init__ is called\n",
      "the __init__ is called\n",
      "220\n",
      "Black\n",
      "200\n",
      "Black\n",
      "250\n"
     ]
    }
   ],
   "source": [
    "class Car:\n",
    "    def __init__(self):\n",
    "        print('the __init__ is called')\n",
    "\n",
    "        \n",
    "honda = Car()\n",
    "ford = Car()\n",
    "audi = Car()\n",
    "\n",
    "ford.speed = 220\n",
    "honda.speed = 200\n",
    "audi.speed = 250\n",
    "\n",
    "\n",
    "ford.color = \"Black\"\n",
    "honda.color = \"Black\"\n",
    "audi.color = \"Black\"\n",
    "\n",
    "\n",
    "print(ford.speed)\n",
    "print(ford.color )\n",
    "print(honda.speed)\n",
    "print(honda.color)\n",
    "print(audi.speed)\n",
    "\n"
   ]
  },
  {
   "cell_type": "code",
   "execution_count": 7,
   "metadata": {},
   "outputs": [
    {
     "ename": "TypeError",
     "evalue": "__init__() missing 2 required positional arguments: 'speed' and 'color'",
     "output_type": "error",
     "traceback": [
      "\u001b[0;31m---------------------------------------------------------------------------\u001b[0m",
      "\u001b[0;31mTypeError\u001b[0m                                 Traceback (most recent call last)",
      "\u001b[0;32m<ipython-input-7-4a61e5af9147>\u001b[0m in \u001b[0;36m<module>\u001b[0;34m\u001b[0m\n\u001b[1;32m      6\u001b[0m \u001b[0;34m\u001b[0m\u001b[0m\n\u001b[1;32m      7\u001b[0m \u001b[0;34m\u001b[0m\u001b[0m\n\u001b[0;32m----> 8\u001b[0;31m \u001b[0mhonda\u001b[0m \u001b[0;34m=\u001b[0m \u001b[0mCar\u001b[0m\u001b[0;34m(\u001b[0m\u001b[0;34m)\u001b[0m\u001b[0;34m\u001b[0m\u001b[0;34m\u001b[0m\u001b[0m\n\u001b[0m\u001b[1;32m      9\u001b[0m \u001b[0mford\u001b[0m \u001b[0;34m=\u001b[0m \u001b[0mCar\u001b[0m\u001b[0;34m(\u001b[0m\u001b[0;34m)\u001b[0m\u001b[0;34m\u001b[0m\u001b[0;34m\u001b[0m\u001b[0m\n\u001b[1;32m     10\u001b[0m \u001b[0maudi\u001b[0m \u001b[0;34m=\u001b[0m \u001b[0mCar\u001b[0m\u001b[0;34m(\u001b[0m\u001b[0;34m)\u001b[0m\u001b[0;34m\u001b[0m\u001b[0;34m\u001b[0m\u001b[0m\n",
      "\u001b[0;31mTypeError\u001b[0m: __init__() missing 2 required positional arguments: 'speed' and 'color'"
     ]
    }
   ],
   "source": [
    "class Car:\n",
    "    def __init__(self, speed, color):\n",
    "        print(color)\n",
    "        print(speed)\n",
    "        print('the __init__ is called')\n",
    "\n",
    "        \n",
    "honda = Car()\n",
    "ford = Car()\n",
    "audi = Car()\n",
    "\n",
    "# ford.speed = 220\n",
    "# honda.speed = 200\n",
    "# audi.speed = 250\n",
    "\n",
    "\n",
    "# ford.color = \"Black\"\n",
    "# honda.color = \"Black\"\n",
    "# audi.color = \"Black\"\n",
    "\n",
    "\n",
    "# print(ford.speed)\n",
    "# print(ford.color )\n",
    "# print(honda.speed)\n",
    "# print(honda.color)\n",
    "# print(audi.speed)\n",
    "\n",
    "\n"
   ]
  },
  {
   "cell_type": "code",
   "execution_count": 8,
   "metadata": {},
   "outputs": [
    {
     "name": "stdout",
     "output_type": "stream",
     "text": [
      "red\n",
      "200\n",
      "the __init__ is called\n",
      "blue\n",
      "250\n",
      "the __init__ is called\n",
      "black\n",
      "240\n",
      "the __init__ is called\n"
     ]
    }
   ],
   "source": [
    "class Car:\n",
    "    def __init__(self, speed, color):\n",
    "        print(color)\n",
    "        print(speed)\n",
    "        print('the __init__ is called')\n",
    "\n",
    "        \n",
    "honda = Car(200, 'red')\n",
    "ford = Car(250, 'blue')\n",
    "audi = Car(240,'black')\n",
    "\n",
    "# ford.speed = 220\n",
    "# honda.speed = 200\n",
    "# audi.speed = 250\n",
    "\n",
    "\n",
    "# ford.color = \"Black\"\n",
    "# honda.color = \"Black\"\n",
    "# audi.color = \"Black\"\n",
    "\n",
    "\n",
    "# print(ford.speed)\n",
    "# print(ford.color )\n",
    "# print(honda.speed)\n",
    "# print(honda.color)\n",
    "# print(audi.speed)"
   ]
  },
  {
   "cell_type": "code",
   "execution_count": 10,
   "metadata": {},
   "outputs": [
    {
     "name": "stdout",
     "output_type": "stream",
     "text": [
      "red\n",
      "200\n",
      "the __init__ is called\n",
      "blue\n",
      "250\n",
      "the __init__ is called\n",
      "black\n",
      "240\n",
      "the __init__ is called\n",
      "250\n",
      "blue\n",
      "200\n",
      "red\n",
      "240\n"
     ]
    }
   ],
   "source": [
    "class Car:\n",
    "    def __init__(self, speed, color):\n",
    "        print(color)\n",
    "        print(speed)\n",
    "        self.speed = speed\n",
    "        self.color = color\n",
    "        print('the __init__ is called')\n",
    "\n",
    "        \n",
    "honda = Car(200, 'red')\n",
    "ford = Car(250, 'blue')\n",
    "audi = Car(240,'black')\n",
    "\n",
    "# ford.speed = 220\n",
    "# honda.speed = 200\n",
    "# audi.speed = 250\n",
    "\n",
    "\n",
    "# ford.color = \"Black\"\n",
    "# honda.color = \"Black\"\n",
    "# audi.color = \"Black\"\n",
    "\n",
    "\n",
    "print(ford.speed)\n",
    "print(ford.color )\n",
    "print(honda.speed)\n",
    "print(honda.color)\n",
    "print(audi.speed)"
   ]
  },
  {
   "cell_type": "code",
   "execution_count": 5,
   "metadata": {},
   "outputs": [
    {
     "name": "stdout",
     "output_type": "stream",
     "text": [
      "Iqra\n",
      "Iqra\n",
      "i5, 16gb\n",
      "i5, 16gb\n"
     ]
    }
   ],
   "source": [
    "class Computer:\n",
    "    def __init__(self):\n",
    "        print(\"Iqra\")\n",
    "    \n",
    "    def config(self):\n",
    "        print(\"i5, 16gb\")\n",
    "        \n",
    "\n",
    "comp1 = Computer()\n",
    "comp2 = Computer()\n",
    "\n",
    "comp1.config()\n",
    "comp2.config()"
   ]
  },
  {
   "cell_type": "code",
   "execution_count": 8,
   "metadata": {},
   "outputs": [
    {
     "name": "stdout",
     "output_type": "stream",
     "text": [
      "i5, 16gb i5 16gb\n",
      "i5, 16gb 14 14gb\n"
     ]
    }
   ],
   "source": [
    "class Computer:\n",
    "    def __init__(self,cpu,ram):\n",
    "        self.cpu = cpu\n",
    "        self.ram=ram\n",
    "    \n",
    "    def config(self):\n",
    "        print(\"i5, 16gb\", self.cpu,self.ram)\n",
    "        \n",
    "\n",
    "comp1 = Computer(\"i5\", \"16gb\")\n",
    "comp2 = Computer('14', '14gb')\n",
    "\n",
    "comp1.config()\n",
    "comp2.config()"
   ]
  },
  {
   "cell_type": "code",
   "execution_count": 9,
   "metadata": {},
   "outputs": [
    {
     "name": "stdout",
     "output_type": "stream",
     "text": [
      "Same\n",
      "Iqra\n",
      "Iqra\n"
     ]
    }
   ],
   "source": [
    "class Computer:\n",
    "    def __init__(self):\n",
    "        self.name = \"Iqra\"\n",
    "        self.age = 21\n",
    "        \n",
    "    def compare(self,other):\n",
    "        if self.age == other.age:\n",
    "            return True\n",
    "        else:\n",
    "            return False\n",
    "    \n",
    "\n",
    "comp1 = Computer()\n",
    "comp2 = Computer()\n",
    "\n",
    "if comp1.compare(comp2):\n",
    "    print('Same')\n",
    "    \n",
    "print(comp1.name)\n",
    "print(comp2.name)"
   ]
  },
  {
   "cell_type": "code",
   "execution_count": 11,
   "metadata": {},
   "outputs": [
    {
     "name": "stdout",
     "output_type": "stream",
     "text": [
      "Not same\n",
      "Iqra\n",
      "Iqra\n"
     ]
    }
   ],
   "source": [
    "class Computer:\n",
    "    def __init__(self):\n",
    "        self.name = \"Iqra\"\n",
    "        self.age = 21\n",
    "        \n",
    "    def compare(self,other):\n",
    "        if self.age == other.age:\n",
    "            return True\n",
    "        else:\n",
    "            return False\n",
    "    \n",
    "\n",
    "comp1 = Computer()\n",
    "comp1.age = 22\n",
    "comp2 = Computer()\n",
    "\n",
    "if comp1.compare(comp2):\n",
    "    print('Same')\n",
    "else:\n",
    "    print(\"Not same\")\n",
    "    \n",
    "print(comp1.name)\n",
    "print(comp2.name)"
   ]
  },
  {
   "cell_type": "code",
   "execution_count": 15,
   "metadata": {},
   "outputs": [
    {
     "ename": "NameError",
     "evalue": "name 'name' is not defined",
     "output_type": "error",
     "traceback": [
      "\u001b[0;31m---------------------------------------------------------------------------\u001b[0m",
      "\u001b[0;31mNameError\u001b[0m                                 Traceback (most recent call last)",
      "\u001b[0;32m<ipython-input-15-4369fb362f73>\u001b[0m in \u001b[0;36m<module>\u001b[0;34m\u001b[0m\n\u001b[1;32m      3\u001b[0m         \u001b[0mself\u001b[0m\u001b[0;34m.\u001b[0m\u001b[0mname\u001b[0m \u001b[0;34m=\u001b[0m \u001b[0mname\u001b[0m\u001b[0;34m\u001b[0m\u001b[0;34m\u001b[0m\u001b[0m\n\u001b[1;32m      4\u001b[0m         \u001b[0mself\u001b[0m\u001b[0;34m.\u001b[0m\u001b[0mmil\u001b[0m \u001b[0;34m=\u001b[0m \u001b[0mmil\u001b[0m\u001b[0;34m\u001b[0m\u001b[0;34m\u001b[0m\u001b[0m\n\u001b[0;32m----> 5\u001b[0;31m \u001b[0mc1\u001b[0m \u001b[0;34m=\u001b[0m \u001b[0mcar\u001b[0m\u001b[0;34m(\u001b[0m\u001b[0mname\u001b[0m\u001b[0;34m,\u001b[0m\u001b[0mmil\u001b[0m\u001b[0;34m)\u001b[0m\u001b[0;34m\u001b[0m\u001b[0;34m\u001b[0m\u001b[0m\n\u001b[0m\u001b[1;32m      6\u001b[0m \u001b[0mc1\u001b[0m\u001b[0;34m.\u001b[0m\u001b[0mcar\u001b[0m\u001b[0;34m(\u001b[0m\u001b[0;34m\"BMW\"\u001b[0m\u001b[0;34m,\u001b[0m\u001b[0;36m10\u001b[0m\u001b[0;34m)\u001b[0m\u001b[0;34m\u001b[0m\u001b[0;34m\u001b[0m\u001b[0m\n\u001b[1;32m      7\u001b[0m \u001b[0mc2\u001b[0m\u001b[0;34m.\u001b[0m\u001b[0mcar\u001b[0m\u001b[0;34m(\u001b[0m\u001b[0;34m\"Honda\"\u001b[0m\u001b[0;34m,\u001b[0m\u001b[0;36m14\u001b[0m\u001b[0;34m)\u001b[0m\u001b[0;34m\u001b[0m\u001b[0;34m\u001b[0m\u001b[0m\n",
      "\u001b[0;31mNameError\u001b[0m: name 'name' is not defined"
     ]
    }
   ],
   "source": [
    "class car:\n",
    "    def __init__(self,name,mil):\n",
    "        self.name = name\n",
    "        self.mil = mil\n",
    "        \n",
    "        \n",
    "c1 = car(name,mil)    \n",
    "\n",
    "c1.car(\"BMW\",10)\n",
    "c2.car(\"Honda\",14)\n",
    "\n",
    "print(c1.name,c1.mil)"
   ]
  },
  {
   "cell_type": "code",
   "execution_count": null,
   "metadata": {},
   "outputs": [],
   "source": []
  }
 ],
 "metadata": {
  "kernelspec": {
   "display_name": "Python 3",
   "language": "python",
   "name": "python3"
  },
  "language_info": {
   "codemirror_mode": {
    "name": "ipython",
    "version": 3
   },
   "file_extension": ".py",
   "mimetype": "text/x-python",
   "name": "python",
   "nbconvert_exporter": "python",
   "pygments_lexer": "ipython3",
   "version": "3.6.7"
  }
 },
 "nbformat": 4,
 "nbformat_minor": 2
}
