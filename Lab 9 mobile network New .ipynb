{
 "cells": [
  {
   "cell_type": "markdown",
   "metadata": {},
   "source": [
    "# LAB 9 Task 2"
   ]
  },
  {
   "cell_type": "markdown",
   "metadata": {},
   "source": [
    "# IQRA Naeem 18b-037-CS(B)"
   ]
  },
  {
   "cell_type": "code",
   "execution_count": 1,
   "metadata": {},
   "outputs": [
    {
     "name": "stdout",
     "output_type": "stream",
     "text": [
      "{'0310': 'Zong Baldia Town.', '0311': 'Zong Bin Qasim Town.', '0312': 'Zong Jamshed Town', '0313': 'Zong Kemari Town.', '0314': 'Zong Malir Town', '0315': 'Zong Liaquatabad Town', '0316': 'Zong Lyari Town', '0300': 'Mobilink Liaquatabad Town', '0301': 'Mobilink Orangi Town', '0302': 'Mobilink Saddar Town', '0303': 'Mobilink Baldia Town.', '0304': 'Mobilink Bin Qasim Town.', '0305': 'Mobilink Gulberg Town.', '0306': 'Mobilink Gulshan Town.', '0307': 'Mobilink Jamshed Town.', '0308': 'Mobilink Kemari Town.', '0309': 'Mobilink Korangi Town.', '0320': 'Warid Korangi Town.', '0321': 'Warid Gulshan Town.', '0322': 'Warid Gadap Town.', '0323': 'Warid Baldia Town.', '0324': 'Warid Defence', '0325': 'Warid Bin Qasim Town.', '0340': 'Telenor Bin Qasim Town.', '0341': 'Telenor Defence', '0342': 'Telenor Gulshan Town.', '0343': 'Telenor Jamshed Town.', '0344': 'Telenor Kemari Town.', '0345': 'Telenor Korangi Town.', '0330': 'Ufone Malir Town', '0331': 'Ufone Orangi Town', '0332': 'Ufone Defence', '0333': 'Ufone Shah Faisal Town', '0334': 'Ufone Orangi Town', '0335': 'Ufone North Nazimabad Town', '0336': 'Ufone Landhi Town', '0337': 'Ufone Baldia Town'}\n"
     ]
    }
   ],
   "source": [
    "import csv\n",
    "with open('/home/iqra/Videos/Networks_.csv', mode='r') as infile:\n",
    "    reader = csv.reader(infile)\n",
    "    with open('Networks_new_.csv', mode='w') as outfile:\n",
    "        writer = csv.writer(outfile)\n",
    "        mydict = {rows[0]:rows[1] for rows in reader}\n",
    "        print(mydict)"
   ]
  },
  {
   "cell_type": "code",
   "execution_count": 5,
   "metadata": {},
   "outputs": [
    {
     "name": "stdout",
     "output_type": "stream",
     "text": [
      "Codes\tCompanies\n",
      "0310\tZong Baldia Town.\n",
      "0311\tZong Bin Qasim Town.\n",
      "0312\tZong Jamshed Town\n",
      "0313\tZong Kemari Town.\n",
      "0314\tZong Malir Town\n",
      "0315\tZong Liaquatabad Town\n",
      "0316\tZong Lyari Town\n",
      "0300\tMobilink Liaquatabad Town\n",
      "0301\tMobilink Orangi Town\n",
      "0302\tMobilink Saddar Town\n",
      "0303\tMobilink Baldia Town.\n",
      "0304\tMobilink Bin Qasim Town.\n",
      "0305\tMobilink Gulberg Town.\n",
      "0306\tMobilink Gulshan Town.\n",
      "0307\tMobilink Jamshed Town.\n",
      "0308\tMobilink Kemari Town.\n",
      "0309\tMobilink Korangi Town.\n",
      "0320\tWarid Korangi Town.\n",
      "0321\tWarid Gulshan Town.\n",
      "0322\tWarid Gadap Town.\n",
      "0323\tWarid Baldia Town.\n",
      "0324\tWarid Defence\n",
      "0325\tWarid Bin Qasim Town.\n",
      "0340\tTelenor Bin Qasim Town.\n",
      "0341\tTelenor Defence\n",
      "0342\tTelenor Gulshan Town.\n",
      "0343\tTelenor Jamshed Town.\n",
      "0344\tTelenor Kemari Town.\n",
      "0345\tTelenor Korangi Town.\n",
      "0330\tUfone Malir Town\n",
      "0331\tUfone Orangi Town\n",
      "0332\tUfone Defence\n",
      "0333\tUfone Shah Faisal Town\n",
      "0334\tUfone Orangi Town\n",
      "0335\tUfone North Nazimabad Town\n",
      "0336\tUfone Landhi Town\n",
      "0337\tUfone Baldia Town\n"
     ]
    }
   ],
   "source": [
    "print(\"Codes\\tCompanies\")\n",
    "for i in mydict.items():\n",
    "    print(\"%s\\t%s\"%(i[0], i[1]))"
   ]
  },
  {
   "cell_type": "code",
   "execution_count": 6,
   "metadata": {},
   "outputs": [
    {
     "name": "stdout",
     "output_type": "stream",
     "text": [
      "{'0341': 'networks', '0323': 'networks', '0304': 'networks', '0331': 'networks', '0316': 'networks', '0342': 'networks', '0336': 'networks'}\n"
     ]
    }
   ],
   "source": [
    "import json\n",
    "import re\n",
    "data = {\"Iqra\":'03410061797',\"Qurat ul Ain\":\"03232387901\",'Nadia':'03044566612','Areesha':\"0331347630\",'Rija':'03162223266','Bilal':'03428178566','Rafeh':'03362540901'}\n",
    "# data = {\"Iqra\":'03100061797',\"Qurat ul Ain\":\"03232387901\",'Nadia':'03048676612','Areesha':\"03312827630\",'Rija':'03162257266'}\n",
    "with open(\"/home/iqra/Desktop/Lab9_Task2.txt\", \"w\") as write_file:\n",
    "    json.dump(data, write_file)\n",
    "json_String = json.dumps(data)\n",
    "\n",
    "r = re.findall('[0-9]+',json_String )\n",
    "\n",
    "d = []\n",
    "f = []\n",
    "k = 'networks'\n",
    "x = (r[0][0:4])\n",
    "y = (r[1][0:4])\n",
    "z = r[2][0:4]\n",
    "a = r[3][0:4]\n",
    "b = r[4][0:4]\n",
    "c = r[5][0:4]\n",
    "t = r[6][0:4]\n",
    "\n",
    "d.append(k)\n",
    "d.append(x)\n",
    "d.append(y)\n",
    "d.append(z)\n",
    "d.append(a)\n",
    "d.append(b)\n",
    "d.append(c)\n",
    "d.append(t)\n",
    "p = []\n",
    "p.append(f)\n",
    "p.append(d)\n",
    "\n",
    "\n",
    "e = {}\n",
    "for group in p:\n",
    "    for item in group[1:]:\n",
    "        e[item] = group[0]\n",
    "print(e)"
   ]
  },
  {
   "cell_type": "code",
   "execution_count": 9,
   "metadata": {},
   "outputs": [
    {
     "name": "stdout",
     "output_type": "stream",
     "text": [
      "'Codes of phone Numbers'\t'Companies with areas'\n",
      " 0341          --->           \tTelenor Defence\n",
      " 0323          --->           \tWarid Baldia Town.\n",
      " 0304          --->           \tMobilink Bin Qasim Town.\n",
      " 0331          --->           \tUfone Orangi Town\n",
      " 0316          --->           \tZong Lyari Town\n",
      " 0342          --->           \tTelenor Gulshan Town.\n",
      " 0336          --->           \tUfone Landhi Town\n"
     ]
    }
   ],
   "source": [
    "d4 = {key:mydict[key] for key in e if key in mydict}\n",
    "\n",
    "print(\"'Codes of phone Numbers'\\t'Companies with areas'\")\n",
    "for i in d4.items():\n",
    "    print(\" %s          --->           \\t%s\"%(i[0], i[1]))\n"
   ]
  },
  {
   "cell_type": "code",
   "execution_count": null,
   "metadata": {},
   "outputs": [],
   "source": []
  }
 ],
 "metadata": {
  "kernelspec": {
   "display_name": "Python 3",
   "language": "python",
   "name": "python3"
  },
  "language_info": {
   "codemirror_mode": {
    "name": "ipython",
    "version": 3
   },
   "file_extension": ".py",
   "mimetype": "text/x-python",
   "name": "python",
   "nbconvert_exporter": "python",
   "pygments_lexer": "ipython3",
   "version": "3.6.8"
  }
 },
 "nbformat": 4,
 "nbformat_minor": 2
}
