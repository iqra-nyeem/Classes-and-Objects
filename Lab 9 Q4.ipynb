{
 "cells": [
  {
   "cell_type": "markdown",
   "metadata": {},
   "source": [
    "# LAB 9"
   ]
  },
  {
   "cell_type": "markdown",
   "metadata": {},
   "source": [
    "# IQRA NAEEM --> 18b-037-CS(B) TASK 4"
   ]
  },
  {
   "cell_type": "code",
   "execution_count": 10,
   "metadata": {},
   "outputs": [
    {
     "name": "stdout",
     "output_type": "stream",
     "text": [
      "['Billionaire', 'Warren', 'Buffett', 'on', 'Saturday', 'gave', 'a', 'clue', 'on', 'who', 'might', 'succeed', 'him', 'to', 'run', 'his', 'Berkshire', 'Hathaway', 'empire,', 'but', 'did', 'not', 'completely', 'reveal', 'his', 'hand.', 'The', 'worldŽs', 'third-richest', 'man', 'also', 'said', 'at', 'his', 'companyŽs', 'annual', 'shareholder', 'meeting', 'that', 'its', 'recent', 'investment', 'in', 'Amazon', 'was', 'not', 'a', 'shift', 'in', 'strategy', 'to', 'focus', 'on', 'Silicon', 'Valley', 'firms,', 'which', 'have', 'largely', 'remained', 'missing', 'from', 'BerkshireŽs', 'voluminous', 'portfolio.', 'Buffett,', '88,', 'was', 'pressed', 'by', 'questions', '--', 'each', 'greeted', 'with', 'a', 'torrent', 'of', 'applause', '--', 'about', 'who', 'would', 'succeed', 'him.', 'Without', 'answering', 'directly,', 'Buffett', 'said', 'Gregory', 'Able,', '57,', 'and', 'Ajit', 'Jain,', '67', '--', 'both', 'promoted', 'last', 'year', 'to', 'the', 'board', 'of', 'directors', '--', 'would', 'in', 'the', 'near', 'future', 'join', 'him', 'and', 'long-time', 'business', 'partner', 'Charlie', 'Munger,', '95,', 'on', 'the', 'stage', 'to', 'answer', 'shareholder', 'questions.', '\"You', 'could', 'not', 'have', 'two', 'better', 'operating', 'managers', 'than', 'Greg', 'and', 'Ajit.', 'ItŽs', 'just', 'fantastic', 'what', 'theyŽve', 'accomplished,\"', 'said', 'Buffett,', 'who', 'is', 'known', 'as', 'the', '\"Oracle', 'of', 'Omaha.\"', 'For', 'decades,', 'Buffett', 'and', 'Munger', 'have', 'been', 'the', 'two', 'stars', 'of', 'Berkshire', 'Hathaway,', 'but', 'on', 'Saturday,', 'Jain', 'answered', 'a', 'shareholder', 'question,', 'though', 'he', 'did', 'so', 'from', 'the', 'floor.', '-', 'ŽUnbureaucraticŽ', '-', 'Abel', 'joined', 'the', 'company', 'in', '1992', 'in', 'the', 'energy', 'division,', 'and', 'for', 'more', 'than', 'a', 'year', 'has', 'overseen', 'all', 'non-insurance', 'activities,', 'while', 'Jain', 'came', 'on', 'board', 'in', '1986', 'in', 'the', 'insurance', 'division,', 'which', 'he', 'currently', 'leads.', 'But', 'who', 'will', 'prevail,', 'or', 'could', 'they', 'jointly', 'take', 'the', 'helm?', '\"One', 'of', 'the', 'reasons', 'we', 'have', 'trouble', 'with', 'these', 'questions', 'is', 'because', 'Berkshire', 'is', 'so', 'very', 'peculiar.', 'We', 'have', 'a', 'different,', 'kind', 'of', 'unbureaucratic', 'way', 'of', 'making', 'decisions,\"', 'said', 'Munger.', '\"But', 'I', 'donŽt', 'want', 'to', 'be', 'like', 'everybody', 'else', 'because', 'this', 'has', 'worked', 'better.', 'So', 'I', 'think', 'youŽre', 'going', 'to', 'have', 'to', 'endure', 'us,\"', 'he', 'said.', 'BuffettŽs', 'departure', 'is', 'likely', 'to', 'open', 'a', 'new', 'era', 'at', 'the', 'company,', 'especially', 'with', 'shares', 'of', 'Berkshire', 'considered', 'to', 'be', '10', 'to', '15', 'percent', 'above', 'their', 'real', 'value', 'thanks', 'to', 'the', 'billionaireŽs', 'presence', 'at', 'the', 'helm.', 'Some', 'analysts', 'say', 'a', 'Buffett-less', 'Berkshire', 'Hathaway', 'could', 'be', 'a', 'candidate', 'for', 'being', 'broken', 'up', 'into', 'multiple', 'companies.-', 'Investing', 'in', 'tech', '-', 'On', 'Saturday,', 'Buffett', 'and', 'Munger', 'also', 'faced', 'an', 'onslaught', 'of', 'questions', 'about', 'strategy', 'for', 'investing', 'in', 'technology', 'companies', 'after', 'Berkshire', 'revealed', 'a', 'stake', 'in', 'Amazon.', 'Buffett', 'said', 'Amazon', 'chief', 'Jeff', 'Bezos', 'has', 'pulled', 'off', '\"close', 'to', 'a', 'miracle\"', 'by', 'transforming', 'an', 'online', 'bookseller', 'into', 'the', 'e-commerce', 'giant', 'it', 'is', 'today.', 'Munger', 'also', 'acknowledged', 'that', 'he', 'and', 'Buffett', 'felt', '\"ashamed\"', 'for', 'missing', 'the', 'boat', 'on', 'Google.', '\"We', 'just', 'sat', 'there', 'sucking', 'our', 'thumbs,\"', 'he', 'said.', '\"We', 'screwed', 'up.\"', 'But', 'thereŽs', 'no', 'indication', 'of', 'a', 'strategy', 'shift', 'at', 'Berkshire', 'to', 'invest', 'more', 'heavily', 'in', 'tech,', 'aside', 'from', 'its', 'new', 'stake', 'in', 'Amazon', 'and', 'a', '$40-billion', 'stake', 'in', 'Apple.', 'On', 'Saturday,', 'Berkshire', 'Hathaway', 'announced', 'a', 'net', 'profit', 'of', '$21.66', 'billion', '--', 'a', 'result', 'that', 'does', 'not', 'take', 'into', 'account', 'expected', 'losses', 'from', 'its', 'stake', 'in', 'Kraft', 'Heinz,', 'which', 'has', 'recently', 'depreciated', 'assets', 'valued', 'in', 'the', 'billions', 'of', 'dollars.', 'Berkshire', 'Hathaway', 'has', 'holdings', 'in', 'companies', 'such', 'as', 'American', 'Express,', 'JPMorgan', 'Chase', 'and', 'Goldman', 'Sachs,', 'and', 'is', 'active', 'in', 'sectors', 'like', 'insurance', '(Geico),', 'rail', '(BNSF)', 'and', 'energy', '(PacifiCorp).', 'The', 'Berkshire', 'Hathaway', 'shareholder', 'meeting,', 'which', 'draws', 'tens', 'of', 'thousands', 'to', 'the', 'small', 'city', 'of', 'Omaha', 'in', 'the', 'American', 'heartland,', 'has', 'been', 'dubbed', '\"Woodstock', 'for', 'Capitalists.\"', 'Unlike', 'other', 'annual', 'meetings,', 'the', 'goal', 'here', 'is', 'not', 'to', 'release', 'company', 'results', 'but', 'to', 'hear', 'Buffett', 'identify', 'companies', 'that', 'he', 'might', 'invest', 'in,', 'or', 'from', 'which', 'he', 'might', 'withdraw', 'his', 'money.', 'Some', '20,000', 'people', 'secured', 'a', 'coveted', 'pass', 'to', 'hear', 'Buffett', 'speak', 'in', 'person,', 'after', 'lining', 'up', 'from', '5:00', 'am,', 'with', 'thousands', 'more', 'left', 'to', 'soak', 'up', 'the', 'atmosphere', 'from', 'outside', 'the', 'theater.', 'Buffett', 'kicked', 'off', 'the', 'day', 'by', 'touring', 'the', 'souvenir', 'stands', 'at', 'CHI', 'Health', 'Center', 'and', 'mingling', 'with', 'the', 'crowd', 'of', 'attendees,', 'made', 'up', 'of', 'leading', 'executives,', 'investors', 'and', 'billionaires', 'from', 'around', 'the', 'world.', 'This', 'year,', 'many', 'Chinese', 'delegations', 'made', 'the', 'trip.', 'He', 'later', 'made', 'a', 'surprise', 'appearance', 'at', 'a', 'sideline', 'event', 'organized', 'by', 'a', 'group', 'of', 'women', 'financial', 'professionals', 'aiming', 'to', 'end', 'the', 'gender', 'imbalance', 'in', 'investing.', '\"ItŽs', 'long', 'overdue,\"', 'Buffet', 'said', 'of', 'the', 'goal.', 'Buffett,', 'who', 'is', 'worth', 'almost', '$90', 'billion,', 'still', 'lives', 'in', 'a', 'relatively', 'modest', 'house', 'about', '10', 'minutes', 'outside', 'downtown', 'Omaha', 'that', 'he', 'bought', 'in', '1958.']\n"
     ]
    }
   ],
   "source": [
    "with open(\"/home/iqra/Desktop/Lab9.txt\", \"r\") as Lab9_Task4:\n",
    "    for f in Lab9_Task4:\n",
    "        x = f.split()\n",
    "        print(x)\n",
    "\n"
   ]
  },
  {
   "cell_type": "code",
   "execution_count": 11,
   "metadata": {},
   "outputs": [
    {
     "name": "stdout",
     "output_type": "stream",
     "text": [
      "{'a': 299, 'e': 411, 'i': 249, 'o': 243, 'u': 114}\n"
     ]
    }
   ],
   "source": [
    "infile = open(\"/home/iqra/Desktop/Lab9.txt\", \"r\")\n",
    "text = infile.read()\n",
    "vowels = {'a':0, 'e':0, 'i':0, 'o':0, 'u':0}\n",
    "\n",
    "for t in text:\n",
    "    if t.lower() == 'a':\n",
    "        vowels['a'] = 1 + vowels['a']\n",
    "    elif t.lower() == 'e':\n",
    "        vowels['e'] = 1 + vowels['e']\n",
    "    elif t.lower() == 'i':\n",
    "        vowels['i'] = 1 + vowels['i']\n",
    "    elif t.lower() == 'o':\n",
    "        vowels['o'] = 1 + vowels['o']\n",
    "    elif t.lower() == 'u':\n",
    "        vowels['u'] = 1 + vowels['u']\n",
    "\n",
    "print(vowels)\n",
    "\n",
    "with open('/home/iqra/Desktop/Lab9_Task4.txt', \"r+b\") as file:\n",
    "    content = file.read()\n",
    "    file.seek(0)\n",
    "    file.write(content.upper())\n"
   ]
  },
  {
   "cell_type": "code",
   "execution_count": 12,
   "metadata": {},
   "outputs": [
    {
     "name": "stdout",
     "output_type": "stream",
     "text": [
      "How many most common words to print: 44\n",
      "\n",
      "OK. The 44 most common words are as follows\n",
      "\n",
      "the :  31\n",
      "in :  23\n",
      "a :  20\n",
      "to :  19\n",
      "of :  18\n",
      "and :  13\n",
      "buffett :  12\n",
      "berkshire :  10\n",
      "on :  9\n",
      "he :  9\n",
      "from :  8\n",
      "is :  8\n",
      "hathaway :  6\n",
      "but :  6\n",
      "at :  6\n",
      "have :  6\n",
      "for :  6\n",
      "has :  6\n",
      "who :  5\n",
      "not :  5\n",
      "that :  5\n",
      "which :  5\n",
      "-- :  5\n",
      "with :  5\n",
      "munger :  5\n",
      "up :  5\n",
      "saturday :  4\n",
      "his :  4\n",
      "shareholder :  4\n",
      "amazon :  4\n",
      "by :  4\n",
      "questions :  4\n",
      "we :  4\n",
      "stake :  4\n",
      "might :  3\n",
      "him :  3\n",
      "also :  3\n",
      "its :  3\n",
      "strategy :  3\n",
      "about :  3\n",
      "jain :  3\n",
      "year :  3\n",
      "could :  3\n",
      "omaha :  3\n",
      "           Word  Count\n",
      "0           the     31\n",
      "1            in     23\n",
      "2             a     20\n",
      "3            to     19\n",
      "4            of     18\n",
      "5           and     13\n",
      "6       buffett     12\n",
      "7     berkshire     10\n",
      "8            on      9\n",
      "9            he      9\n",
      "10         from      8\n",
      "11           is      8\n",
      "12     hathaway      6\n",
      "13          but      6\n",
      "14           at      6\n",
      "15         have      6\n",
      "16          for      6\n",
      "17          has      6\n",
      "18          who      5\n",
      "19          not      5\n",
      "20         that      5\n",
      "21        which      5\n",
      "22           --      5\n",
      "23         with      5\n",
      "24       munger      5\n",
      "25           up      5\n",
      "26     saturday      4\n",
      "27          his      4\n",
      "28  shareholder      4\n",
      "29       amazon      4\n",
      "30           by      4\n",
      "31    questions      4\n",
      "32           we      4\n",
      "33        stake      4\n",
      "34        might      3\n",
      "35          him      3\n",
      "36         also      3\n",
      "37          its      3\n",
      "38     strategy      3\n",
      "39        about      3\n",
      "40         jain      3\n",
      "41         year      3\n",
      "42        could      3\n",
      "43        omaha      3\n"
     ]
    }
   ],
   "source": [
    "import collections\n",
    "import pandas as pd\n",
    "file = open('/home/iqra/Desktop/Lab9.txt', encoding=\"utf8\")\n",
    "a= file.read()\n",
    "stopwords = set(line.strip() for line in open('/home/iqra/Desktop/Lab9_Task4.txt'))\n",
    "stopwords = stopwords.union(set(['mr','mrs','one','two','said']))\n",
    "wordcount = {}\n",
    "for word in a.lower().split():\n",
    "    word = word.replace(\".\",\"\")\n",
    "    word = word.replace(\",\",\"\")\n",
    "    word = word.replace(\":\",\"\")\n",
    "    word = word.replace(\"\\\"\",\"\")\n",
    "    word = word.replace(\"!\",\"\")\n",
    "    word = word.replace(\"â€œ\",\"\")\n",
    "    word = word.replace(\"â€˜\",\"\")\n",
    "    word = word.replace(\"*\",\"\")\n",
    "    if word not in stopwords:\n",
    "        if word not in wordcount:\n",
    "            wordcount[word] = 1\n",
    "        else:\n",
    "            wordcount[word] += 1\n",
    "n_print = int(input(\"How many most common words to print: \"))\n",
    "print(\"\\nOK. The {} most common words are as follows\\n\".format(n_print))\n",
    "word_counter = collections.Counter(wordcount)\n",
    "for word, count in word_counter.most_common(n_print):\n",
    "    print(word, \": \", count)\n",
    "file.close()\n",
    "lst = word_counter.most_common(n_print)\n",
    "df = pd.DataFrame(lst, columns = ['Word', 'Count'])\n",
    "print(df)\n"
   ]
  },
  {
   "cell_type": "code",
   "execution_count": 14,
   "metadata": {},
   "outputs": [
    {
     "name": "stdout",
     "output_type": "stream",
     "text": [
      "BILLIONAIRE WARREN BUFFETT ON SATURDAY GAVE A CLUE ON WHO MIGHT SUCCEED HIM TO RUN HIS BERKSHIRE HATHAWAY EMPIRE, BUT DID NOT COMPLETELY REVEAL HIS HAND. THE WORLDŽS THIRD-RICHEST MAN ALSO SAID AT HIS COMPANYŽS ANNUAL SHAREHOLDER MEETING THAT ITS RECENT INVESTMENT IN AMAZON WAS NOT A SHIFT IN STRATEGY TO FOCUS ON SILICON VALLEY FIRMS, WHICH HAVE LARGELY REMAINED MISSING FROM BERKSHIREŽS VOLUMINOUS PORTFOLIO. BUFFETT, 88, WAS PRESSED BY QUESTIONS -- EACH GREETED WITH A TORRENT OF APPLAUSE -- ABOUT WHO WOULD SUCCEED HIM. WITHOUT ANSWERING DIRECTLY, BUFFETT SAID GREGORY ABLE, 57, AND AJIT JAIN, 67 -- BOTH PROMOTED LAST YEAR TO THE BOARD OF DIRECTORS -- WOULD IN THE NEAR FUTURE JOIN HIM AND LONG-TIME BUSINESS PARTNER CHARLIE MUNGER, 95, ON THE STAGE TO ANSWER SHAREHOLDER QUESTIONS. \"YOU COULD NOT HAVE TWO BETTER OPERATING MANAGERS THAN GREG AND AJIT. ITŽS JUST FANTASTIC WHAT THEYŽVE ACCOMPLISHED,\" SAID BUFFETT, WHO IS KNOWN AS THE \"ORACLE OF OMAHA.\" FOR DECADES, BUFFETT AND MUNGER HAVE BEEN THE TWO STARS OF BERKSHIRE HATHAWAY, BUT ON SATURDAY, JAIN ANSWERED A SHAREHOLDER QUESTION, THOUGH HE DID SO FROM THE FLOOR. - ŽUNBUREAUCRATICŽ - ABEL JOINED THE COMPANY IN 1992 IN THE ENERGY DIVISION, AND FOR MORE THAN A YEAR HAS OVERSEEN ALL NON-INSURANCE ACTIVITIES, WHILE JAIN CAME ON BOARD IN 1986 IN THE INSURANCE DIVISION, WHICH HE CURRENTLY LEADS. BUT WHO WILL PREVAIL, OR COULD THEY JOINTLY TAKE THE HELM? \"ONE OF THE REASONS WE HAVE TROUBLE WITH THESE QUESTIONS IS BECAUSE BERKSHIRE IS SO VERY PECULIAR. WE HAVE A DIFFERENT, KIND OF UNBUREAUCRATIC WAY OF MAKING DECISIONS,\" SAID MUNGER. \"BUT I DONŽT WANT TO BE LIKE EVERYBODY ELSE BECAUSE THIS HAS WORKED BETTER. SO I THINK YOUŽRE GOING TO HAVE TO ENDURE US,\" HE SAID. BUFFETTŽS DEPARTURE IS LIKELY TO OPEN A NEW ERA AT THE COMPANY, ESPECIALLY WITH SHARES OF BERKSHIRE CONSIDERED TO BE 10 TO 15 PERCENT ABOVE THEIR REAL VALUE THANKS TO THE BILLIONAIREŽS PRESENCE AT THE HELM. SOME ANALYSTS SAY A BUFFETT-LESS BERKSHIRE HATHAWAY COULD BE A CANDIDATE FOR BEING BROKEN UP INTO MULTIPLE COMPANIES.- INVESTING IN TECH - ON SATURDAY, BUFFETT AND MUNGER ALSO FACED AN ONSLAUGHT OF QUESTIONS ABOUT STRATEGY FOR INVESTING IN TECHNOLOGY COMPANIES AFTER BERKSHIRE REVEALED A STAKE IN AMAZON. BUFFETT SAID AMAZON CHIEF JEFF BEZOS HAS PULLED OFF \"CLOSE TO A MIRACLE\" BY TRANSFORMING AN ONLINE BOOKSELLER INTO THE E-COMMERCE GIANT IT IS TODAY. MUNGER ALSO ACKNOWLEDGED THAT HE AND BUFFETT FELT \"ASHAMED\" FOR MISSING THE BOAT ON GOOGLE. \"WE JUST SAT THERE SUCKING OUR THUMBS,\" HE SAID. \"WE SCREWED UP.\" BUT THEREŽS NO INDICATION OF A STRATEGY SHIFT AT BERKSHIRE TO INVEST MORE HEAVILY IN TECH, ASIDE FROM ITS NEW STAKE IN AMAZON AND A $40-BILLION STAKE IN APPLE. ON SATURDAY, BERKSHIRE HATHAWAY ANNOUNCED A NET PROFIT OF $21.66 BILLION -- A RESULT THAT DOES NOT TAKE INTO ACCOUNT EXPECTED LOSSES FROM ITS STAKE IN KRAFT HEINZ, WHICH HAS RECENTLY DEPRECIATED ASSETS VALUED IN THE BILLIONS OF DOLLARS. BERKSHIRE HATHAWAY HAS HOLDINGS IN COMPANIES SUCH AS AMERICAN EXPRESS, JPMORGAN CHASE AND GOLDMAN SACHS, AND IS ACTIVE IN SECTORS LIKE INSURANCE (GEICO), RAIL (BNSF) AND ENERGY (PACIFICORP). THE BERKSHIRE HATHAWAY SHAREHOLDER MEETING, WHICH DRAWS TENS OF THOUSANDS TO THE SMALL CITY OF OMAHA IN THE AMERICAN HEARTLAND, HAS BEEN DUBBED \"WOODSTOCK FOR CAPITALISTS.\" UNLIKE OTHER ANNUAL MEETINGS, THE GOAL HERE IS NOT TO RELEASE COMPANY RESULTS BUT TO HEAR BUFFETT IDENTIFY COMPANIES THAT HE MIGHT INVEST IN, OR FROM WHICH HE MIGHT WITHDRAW HIS MONEY. SOME 20,000 PEOPLE SECURED A COVETED PASS TO HEAR BUFFETT SPEAK IN PERSON, AFTER LINING UP FROM 5:00 AM, WITH THOUSANDS MORE LEFT TO SOAK UP THE ATMOSPHERE FROM OUTSIDE THE THEATER. BUFFETT KICKED OFF THE DAY BY TOURING THE SOUVENIR STANDS AT CHI HEALTH CENTER AND MINGLING WITH THE CROWD OF ATTENDEES, MADE UP OF LEADING EXECUTIVES, INVESTORS AND BILLIONAIRES FROM AROUND THE WORLD. THIS YEAR, MANY CHINESE DELEGATIONS MADE THE TRIP. HE LATER MADE A SURPRISE APPEARANCE AT A SIDELINE EVENT ORGANIZED BY A GROUP OF WOMEN FINANCIAL PROFESSIONALS AIMING TO END THE GENDER IMBALANCE IN INVESTING. \"ITŽS LONG OVERDUE,\" BUFFET SAID OF THE GOAL. BUFFETT, WHO IS WORTH ALMOST $90 BILLION, STILL LIVES IN A RELATIVELY MODEST HOUSE ABOUT 10 MINUTES OUTSIDE DOWNTOWN OMAHA THAT HE BOUGHT IN 1958.\n",
      "\n"
     ]
    }
   ],
   "source": [
    "with open('/home/iqra/Desktop/Lab9.txt', \"r\") as f:\n",
    "    for line in f:\n",
    "        l=line.upper()\n",
    "        print(l)"
   ]
  },
  {
   "cell_type": "code",
   "execution_count": 13,
   "metadata": {},
   "outputs": [
    {
     "name": "stdout",
     "output_type": "stream",
     "text": [
      "Billionaire warren buffett on saturday gave a clue on who might succeed him to run his berkshire hathaway empire, but did not completely reveal his hand. the worldžs third-richest man also said at his companyžs annual shareholder meeting that its recent investment in amazon was not a shift in strategy to focus on silicon valley firms, which have largely remained missing from berkshirežs voluminous portfolio. buffett, 88, was pressed by questions -- each greeted with a torrent of applause -- about who would succeed him. without answering directly, buffett said gregory able, 57, and ajit jain, 67 -- both promoted last year to the board of directors -- would in the near future join him and long-time business partner charlie munger, 95, on the stage to answer shareholder questions. \"you could not have two better operating managers than greg and ajit. itžs just fantastic what theyžve accomplished,\" said buffett, who is known as the \"oracle of omaha.\" for decades, buffett and munger have been the two stars of berkshire hathaway, but on saturday, jain answered a shareholder question, though he did so from the floor. - žunbureaucraticž - abel joined the company in 1992 in the energy division, and for more than a year has overseen all non-insurance activities, while jain came on board in 1986 in the insurance division, which he currently leads. but who will prevail, or could they jointly take the helm? \"one of the reasons we have trouble with these questions is because berkshire is so very peculiar. we have a different, kind of unbureaucratic way of making decisions,\" said munger. \"but i donžt want to be like everybody else because this has worked better. so i think youžre going to have to endure us,\" he said. buffettžs departure is likely to open a new era at the company, especially with shares of berkshire considered to be 10 to 15 percent above their real value thanks to the billionairežs presence at the helm. some analysts say a buffett-less berkshire hathaway could be a candidate for being broken up into multiple companies.- investing in tech - on saturday, buffett and munger also faced an onslaught of questions about strategy for investing in technology companies after berkshire revealed a stake in amazon. buffett said amazon chief jeff bezos has pulled off \"close to a miracle\" by transforming an online bookseller into the e-commerce giant it is today. munger also acknowledged that he and buffett felt \"ashamed\" for missing the boat on google. \"we just sat there sucking our thumbs,\" he said. \"we screwed up.\" but therežs no indication of a strategy shift at berkshire to invest more heavily in tech, aside from its new stake in amazon and a $40-billion stake in apple. on saturday, berkshire hathaway announced a net profit of $21.66 billion -- a result that does not take into account expected losses from its stake in kraft heinz, which has recently depreciated assets valued in the billions of dollars. berkshire hathaway has holdings in companies such as american express, jpmorgan chase and goldman sachs, and is active in sectors like insurance (geico), rail (bnsf) and energy (pacificorp). the berkshire hathaway shareholder meeting, which draws tens of thousands to the small city of omaha in the american heartland, has been dubbed \"woodstock for capitalists.\" unlike other annual meetings, the goal here is not to release company results but to hear buffett identify companies that he might invest in, or from which he might withdraw his money. some 20,000 people secured a coveted pass to hear buffett speak in person, after lining up from 5:00 am, with thousands more left to soak up the atmosphere from outside the theater. buffett kicked off the day by touring the souvenir stands at chi health center and mingling with the crowd of attendees, made up of leading executives, investors and billionaires from around the world. this year, many chinese delegations made the trip. he later made a surprise appearance at a sideline event organized by a group of women financial professionals aiming to end the gender imbalance in investing. \"itžs long overdue,\" buffet said of the goal. buffett, who is worth almost $90 billion, still lives in a relatively modest house about 10 minutes outside downtown omaha that he bought in 1958.\n",
      "\n"
     ]
    }
   ],
   "source": [
    "with open('/home/iqra/Desktop/Lab9.txt', \"r\") as f:\n",
    "    for line in f:\n",
    "        l=line.capitalize()\n",
    "        print(l)"
   ]
  },
  {
   "cell_type": "code",
   "execution_count": null,
   "metadata": {},
   "outputs": [],
   "source": []
  }
 ],
 "metadata": {
  "kernelspec": {
   "display_name": "Python 3",
   "language": "python",
   "name": "python3"
  },
  "language_info": {
   "codemirror_mode": {
    "name": "ipython",
    "version": 3
   },
   "file_extension": ".py",
   "mimetype": "text/x-python",
   "name": "python",
   "nbconvert_exporter": "python",
   "pygments_lexer": "ipython3",
   "version": "3.6.8"
  }
 },
 "nbformat": 4,
 "nbformat_minor": 2
}
