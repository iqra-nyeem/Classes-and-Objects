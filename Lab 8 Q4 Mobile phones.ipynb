{
 "cells": [
  {
   "cell_type": "code",
   "execution_count": 2,
   "metadata": {},
   "outputs": [
    {
     "name": "stdout",
     "output_type": "stream",
     "text": [
      "Slect OS System of Mobile Android\n",
      "The Mobile's Name is samgsung.\n",
      "its modle is 2019.\n",
      "Chose Button or Touch_ScreenTouch_Screen\n",
      "Samsung S9  -->  5.8-inch screen size\n",
      "Samsung Note 9  -->  6.4-inch screen size\n",
      "HONOR 10  -->  5.8-inch screen size\n"
     ]
    }
   ],
   "source": [
    "class Mobile_Phones:\n",
    "    pass\n",
    "    def input_User(self):\n",
    "        inp = input(\"Slect OS System of Mobile \")\n",
    "        if inp == 'Android':\n",
    "#             print(\"ll\")\n",
    "            M = Mobile_Phones()\n",
    "            M.input_User\n",
    "            A = Android(\"samgsung\",2019,222555)\n",
    "            print(\"The Mobile's Name is {}.\".format(A.Name))\n",
    "            print(\"its modle is {}.\".format(A.Modle))\n",
    "            A.Mechanism()\n",
    "            A.Size()\n",
    "        elif inp == \"IOS\":\n",
    "            M = Mobile_Phones()\n",
    "            M.input_User\n",
    "            I = IOS(\"iPhone xs\",2019,2225599)\n",
    "            print(\"The Mobile's Name is {}.\".format(I.Name))\n",
    "            print(\"its modle is {}.\".format(I.Modle))\n",
    "            I.Mechanism()\n",
    "            I.Size()\n",
    "        else:\n",
    "            return \"Plz Chose Android or IOS\"\n",
    "class Android(Mobile_Phones):\n",
    "    def __init__(self,Name,Modle,IPN_No):\n",
    "        self.Name = Name\n",
    "        self.Modle = Modle\n",
    "        self.IPN_No = IPN_No\n",
    "    def Mechanism(self):\n",
    "        inpu=input(\"Chose Button or Touch_Screen\")\n",
    "        if inpu == \"Touch_Screen\":\n",
    "            return (\"Touch_Screen and Screen can br split\")\n",
    "        else:\n",
    "            print(\"Button and Screen can not Split\")\n",
    "    def Size(self):\n",
    "        Size_ =   {'Samsung S9':\"5.8-inch screen size\",\"Samsung Note 9\":'6.4-inch screen size','HONOR 10':'5.8-inch screen size'}\n",
    "        \n",
    "        for key,val in Size_.items():\n",
    "            print(key, \" --> \", val)\n",
    "class IOS(Mobile_Phones):\n",
    "    def __init__(self,Name,Modle,IPN_No):\n",
    "        self.Name = Name\n",
    "        self.Modle = Modle\n",
    "        self.IPN_No = IPN_No\n",
    "    def Mechanism(self):\n",
    "        inpu=\"Touch_Screen\"\n",
    "        return (\"Touch_Screen and Screen can br split\")\n",
    "    def Size(self):\n",
    "        Size_ =   {'iPhone XS':\"5.8-inch screen size\",'iPhone XS Max':\"6.5-inch screen size\",'iPhone XR':'6.1-inch screen size',\"iPhone 6s Plus\":\"5.1-inch screen siz\"}\n",
    "        \n",
    "        for key,val in Size_.items():\n",
    "            print(key, \" --> \", val)\n",
    "      \n",
    "    \n",
    "M = Mobile_Phones()\n",
    "M.input_User()"
   ]
  },
  {
   "cell_type": "code",
   "execution_count": null,
   "metadata": {},
   "outputs": [],
   "source": []
  }
 ],
 "metadata": {
  "kernelspec": {
   "display_name": "Python 3",
   "language": "python",
   "name": "python3"
  },
  "language_info": {
   "codemirror_mode": {
    "name": "ipython",
    "version": 3
   },
   "file_extension": ".py",
   "mimetype": "text/x-python",
   "name": "python",
   "nbconvert_exporter": "python",
   "pygments_lexer": "ipython3",
   "version": "3.6.7"
  }
 },
 "nbformat": 4,
 "nbformat_minor": 2
}
